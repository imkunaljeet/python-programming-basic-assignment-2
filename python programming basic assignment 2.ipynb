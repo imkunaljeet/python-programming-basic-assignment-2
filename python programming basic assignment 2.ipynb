{
 "cells": [
  {
   "cell_type": "markdown",
   "metadata": {},
   "source": [
    "**1. Write a Python program to convert kilometers to miles?**"
   ]
  },
  {
   "cell_type": "code",
   "execution_count": 5,
   "metadata": {},
   "outputs": [
    {
     "name": "stdout",
     "output_type": "stream",
     "text": [
      "no. of kilometeres - 3.22\n",
      "2.0008146200000003\n"
     ]
    }
   ],
   "source": [
    "def km_to_miles(kilometres):\n",
    "    km_to_mile = 0.621371\n",
    "    miles = kilometres * km_to_mile \n",
    "    return miles\n",
    "\n",
    "kilometres = float(input('no. of kilometeres - '))\n",
    "print(km_to_miles(kilometres))"
   ]
  },
  {
   "cell_type": "markdown",
   "metadata": {},
   "source": [
    "**2. Write a Python program to convert Celsius to Fahrenheit?**"
   ]
  },
  {
   "cell_type": "code",
   "execution_count": 7,
   "metadata": {},
   "outputs": [
    {
     "name": "stdout",
     "output_type": "stream",
     "text": [
      "temperature in celsius: 50\n",
      "122.0\n"
     ]
    }
   ],
   "source": [
    "def ctoF(celsius):\n",
    "    fahreinheit = (celsius * 9/5) + 32\n",
    "    return fahreinheit\n",
    "\n",
    "celsius = float(input('temperature in celsius: '))\n",
    "print(ctoF(celsius))"
   ]
  },
  {
   "cell_type": "markdown",
   "metadata": {},
   "source": [
    "**3. Write a Python program to display calendar?**"
   ]
  },
  {
   "cell_type": "code",
   "execution_count": 26,
   "metadata": {},
   "outputs": [
    {
     "name": "stdout",
     "output_type": "stream",
     "text": [
      "   December 2000\n",
      "Mo Tu We Th Fr Sa Su\n",
      "             1  2  3\n",
      " 4  5  6  7  8  9 10\n",
      "11 12 13 14 15 16 17\n",
      "18 19 20 21 22 23 24\n",
      "25 26 27 28 29 30 31\n",
      "\n"
     ]
    }
   ],
   "source": [
    "import calendar\n",
    "month = 12\n",
    "year = 2000\n",
    "print(calendar.month(year,month))"
   ]
  },
  {
   "cell_type": "markdown",
   "metadata": {},
   "source": [
    "**4. Write a Python program to solve quadratic equation?**"
   ]
  },
  {
   "cell_type": "code",
   "execution_count": 8,
   "metadata": {},
   "outputs": [
    {
     "name": "stdout",
     "output_type": "stream",
     "text": [
      "Enter a: 1\n",
      "Enter b: 4\n",
      "Enter c: 1\n",
      "root1 is (-0.2679491924311228+0j)\n",
      "root2 is (-3.732050807568877+0j)\n"
     ]
    }
   ],
   "source": [
    "import cmath\n",
    "a = float(input('Enter a: '))\n",
    "b = float(input('Enter b: '))\n",
    "c = float(input('Enter c: '))\n",
    "discriminant = (b**2) - (4*a*c)\n",
    "root1 = (-b+cmath.sqrt(discriminant))/(2*a)\n",
    "root2 = (-b-cmath.sqrt(discriminant))/(2*a)\n",
    "\n",
    "print('root1 is', root1) \n",
    "print('root2 is', root2)\n"
   ]
  },
  {
   "cell_type": "markdown",
   "metadata": {},
   "source": [
    "**5. Write a Python program to swap two variables without temp variable?**"
   ]
  },
  {
   "cell_type": "code",
   "execution_count": 9,
   "metadata": {},
   "outputs": [
    {
     "name": "stdout",
     "output_type": "stream",
     "text": [
      "Before swapping a =  kunj b =  56\n",
      "After swapping a = 56 b =  kunj\n"
     ]
    }
   ],
   "source": [
    "a = 'kunj'\n",
    "b = 56\n",
    "print('Before swapping a = ', a,'b = ',b)\n",
    "a,b = b,a\n",
    "print('After swapping a =',a,'b = ',b)"
   ]
  }
 ],
 "metadata": {
  "kernelspec": {
   "display_name": "Python 3",
   "language": "python",
   "name": "python3"
  },
  "language_info": {
   "codemirror_mode": {
    "name": "ipython",
    "version": 3
   },
   "file_extension": ".py",
   "mimetype": "text/x-python",
   "name": "python",
   "nbconvert_exporter": "python",
   "pygments_lexer": "ipython3",
   "version": "3.7.6"
  }
 },
 "nbformat": 4,
 "nbformat_minor": 4
}
